{
 "cells": [
  {
   "cell_type": "code",
   "execution_count": 3,
   "id": "b8a80ae0",
   "metadata": {},
   "outputs": [
    {
     "name": "stdout",
     "output_type": "stream",
     "text": [
      "Collecting cartopy\n",
      "  Downloading Cartopy-0.21.1.tar.gz (10.9 MB)\n",
      "\u001b[2K     \u001b[90m━━━━━━━━━━━━━━━━━━━━━━━━━━━━━━━━━━━━━━━━\u001b[0m \u001b[32m10.9/10.9 MB\u001b[0m \u001b[31m9.0 MB/s\u001b[0m eta \u001b[36m0:00:00\u001b[0m00:01\u001b[0m00:01\u001b[0m\n",
      "\u001b[?25h  Installing build dependencies ... \u001b[?25ldone\n",
      "\u001b[?25h  Getting requirements to build wheel ... \u001b[?25ldone\n",
      "\u001b[?25h  Preparing metadata (pyproject.toml) ... \u001b[?25ldone\n",
      "\u001b[?25hCollecting shapely>=1.6.4\n",
      "  Downloading shapely-2.0.1-cp39-cp39-macosx_10_9_x86_64.whl (1.4 MB)\n",
      "\u001b[2K     \u001b[90m━━━━━━━━━━━━━━━━━━━━━━━━━━━━━━━━━━━━━━━━\u001b[0m \u001b[32m1.4/1.4 MB\u001b[0m \u001b[31m13.3 MB/s\u001b[0m eta \u001b[36m0:00:00\u001b[0m00:01\u001b[0m00:01\u001b[0m\n",
      "\u001b[?25hCollecting pyproj>=3.0.0\n",
      "  Downloading pyproj-3.5.0-cp39-cp39-macosx_10_9_x86_64.whl (8.5 MB)\n",
      "\u001b[2K     \u001b[90m━━━━━━━━━━━━━━━━━━━━━━━━━━━━━━━━━━━━━━━━\u001b[0m \u001b[32m8.5/8.5 MB\u001b[0m \u001b[31m20.6 MB/s\u001b[0m eta \u001b[36m0:00:00\u001b[0m00:01\u001b[0m00:01\u001b[0m\n",
      "\u001b[?25hRequirement already satisfied: matplotlib>=3.1 in /opt/anaconda3/lib/python3.9/site-packages (from cartopy) (3.5.2)\n",
      "Collecting pyshp>=2.1\n",
      "  Downloading pyshp-2.3.1-py2.py3-none-any.whl (46 kB)\n",
      "\u001b[2K     \u001b[90m━━━━━━━━━━━━━━━━━━━━━━━━━━━━━━━━━━━━━━━━\u001b[0m \u001b[32m46.5/46.5 kB\u001b[0m \u001b[31m1.5 MB/s\u001b[0m eta \u001b[36m0:00:00\u001b[0m\n",
      "\u001b[?25hRequirement already satisfied: numpy>=1.18 in /opt/anaconda3/lib/python3.9/site-packages (from cartopy) (1.21.5)\n",
      "Requirement already satisfied: packaging>=20.0 in /opt/anaconda3/lib/python3.9/site-packages (from matplotlib>=3.1->cartopy) (21.3)\n",
      "Requirement already satisfied: fonttools>=4.22.0 in /opt/anaconda3/lib/python3.9/site-packages (from matplotlib>=3.1->cartopy) (4.25.0)\n",
      "Requirement already satisfied: cycler>=0.10 in /opt/anaconda3/lib/python3.9/site-packages (from matplotlib>=3.1->cartopy) (0.11.0)\n",
      "Requirement already satisfied: kiwisolver>=1.0.1 in /opt/anaconda3/lib/python3.9/site-packages (from matplotlib>=3.1->cartopy) (1.4.2)\n",
      "Requirement already satisfied: pyparsing>=2.2.1 in /opt/anaconda3/lib/python3.9/site-packages (from matplotlib>=3.1->cartopy) (3.0.9)\n",
      "Requirement already satisfied: python-dateutil>=2.7 in /opt/anaconda3/lib/python3.9/site-packages (from matplotlib>=3.1->cartopy) (2.8.2)\n",
      "Requirement already satisfied: pillow>=6.2.0 in /opt/anaconda3/lib/python3.9/site-packages (from matplotlib>=3.1->cartopy) (9.2.0)\n",
      "Requirement already satisfied: certifi in /opt/anaconda3/lib/python3.9/site-packages (from pyproj>=3.0.0->cartopy) (2022.9.24)\n",
      "Requirement already satisfied: six>=1.5 in /opt/anaconda3/lib/python3.9/site-packages (from python-dateutil>=2.7->matplotlib>=3.1->cartopy) (1.16.0)\n",
      "Building wheels for collected packages: cartopy\n",
      "  Building wheel for cartopy (pyproject.toml) ... \u001b[?25ldone\n",
      "\u001b[?25h  Created wheel for cartopy: filename=Cartopy-0.21.1-cp39-cp39-macosx_10_9_x86_64.whl size=10790317 sha256=4e38b5de6de37dbe76ab932d4904094163cf6c1734534a461f27faf997ca229e\n",
      "  Stored in directory: /Users/patrick/Library/Caches/pip/wheels/74/b9/f5/2c94acd7cd21480e6cf63169144d7aac3e8d9cf638225ed578\n",
      "Successfully built cartopy\n",
      "Installing collected packages: shapely, pyshp, pyproj, cartopy\n",
      "Successfully installed cartopy-0.21.1 pyproj-3.5.0 pyshp-2.3.1 shapely-2.0.1\n",
      "Note: you may need to restart the kernel to use updated packages.\n"
     ]
    }
   ],
   "source": [
    "pip install cartopy"
   ]
  },
  {
   "cell_type": "code",
   "execution_count": 4,
   "id": "6a484524",
   "metadata": {},
   "outputs": [
    {
     "name": "stdout",
     "output_type": "stream",
     "text": [
      "Collecting GeoViews\n",
      "  Downloading geoviews-1.9.6-py2.py3-none-any.whl (508 kB)\n",
      "\u001b[2K     \u001b[90m━━━━━━━━━━━━━━━━━━━━━━━━━━━━━━━━━━━━━━━\u001b[0m \u001b[32m508.0/508.0 kB\u001b[0m \u001b[31m4.8 MB/s\u001b[0m eta \u001b[36m0:00:00\u001b[0ma \u001b[36m0:00:01\u001b[0m\n",
      "\u001b[?25hRequirement already satisfied: holoviews>=1.14.2 in /opt/anaconda3/lib/python3.9/site-packages (from GeoViews) (1.15.0)\n",
      "Requirement already satisfied: shapely in /opt/anaconda3/lib/python3.9/site-packages (from GeoViews) (2.0.1)\n",
      "Requirement already satisfied: cartopy>=0.18.0 in /opt/anaconda3/lib/python3.9/site-packages (from GeoViews) (0.21.1)\n",
      "Requirement already satisfied: param in /opt/anaconda3/lib/python3.9/site-packages (from GeoViews) (1.12.0)\n",
      "Requirement already satisfied: bokeh<2.5,>=2.4.0 in /opt/anaconda3/lib/python3.9/site-packages (from GeoViews) (2.4.3)\n",
      "Requirement already satisfied: numpy in /opt/anaconda3/lib/python3.9/site-packages (from GeoViews) (1.21.5)\n",
      "Requirement already satisfied: packaging in /opt/anaconda3/lib/python3.9/site-packages (from GeoViews) (21.3)\n",
      "Requirement already satisfied: panel in /opt/anaconda3/lib/python3.9/site-packages (from GeoViews) (0.13.1)\n",
      "Requirement already satisfied: pillow>=7.1.0 in /opt/anaconda3/lib/python3.9/site-packages (from bokeh<2.5,>=2.4.0->GeoViews) (9.2.0)\n",
      "Requirement already satisfied: PyYAML>=3.10 in /opt/anaconda3/lib/python3.9/site-packages (from bokeh<2.5,>=2.4.0->GeoViews) (6.0)\n",
      "Requirement already satisfied: tornado>=5.1 in /opt/anaconda3/lib/python3.9/site-packages (from bokeh<2.5,>=2.4.0->GeoViews) (6.1)\n",
      "Requirement already satisfied: Jinja2>=2.9 in /opt/anaconda3/lib/python3.9/site-packages (from bokeh<2.5,>=2.4.0->GeoViews) (2.11.3)\n",
      "Requirement already satisfied: typing-extensions>=3.10.0 in /opt/anaconda3/lib/python3.9/site-packages (from bokeh<2.5,>=2.4.0->GeoViews) (4.3.0)\n",
      "Requirement already satisfied: pyshp>=2.1 in /opt/anaconda3/lib/python3.9/site-packages (from cartopy>=0.18.0->GeoViews) (2.3.1)\n",
      "Requirement already satisfied: matplotlib>=3.1 in /opt/anaconda3/lib/python3.9/site-packages (from cartopy>=0.18.0->GeoViews) (3.5.2)\n",
      "Requirement already satisfied: pyproj>=3.0.0 in /opt/anaconda3/lib/python3.9/site-packages (from cartopy>=0.18.0->GeoViews) (3.5.0)\n",
      "Requirement already satisfied: pyviz-comms>=0.7.4 in /opt/anaconda3/lib/python3.9/site-packages (from holoviews>=1.14.2->GeoViews) (2.0.2)\n",
      "Requirement already satisfied: colorcet in /opt/anaconda3/lib/python3.9/site-packages (from holoviews>=1.14.2->GeoViews) (3.0.0)\n",
      "Requirement already satisfied: pandas>=0.20.0 in /opt/anaconda3/lib/python3.9/site-packages (from holoviews>=1.14.2->GeoViews) (1.4.4)\n",
      "Requirement already satisfied: pyparsing!=3.0.5,>=2.0.2 in /opt/anaconda3/lib/python3.9/site-packages (from packaging->GeoViews) (3.0.9)\n",
      "Requirement already satisfied: pyct>=0.4.4 in /opt/anaconda3/lib/python3.9/site-packages (from panel->GeoViews) (0.4.8)\n",
      "Requirement already satisfied: bleach in /opt/anaconda3/lib/python3.9/site-packages (from panel->GeoViews) (4.1.0)\n",
      "Requirement already satisfied: setuptools in /opt/anaconda3/lib/python3.9/site-packages (from panel->GeoViews) (63.4.1)\n",
      "Requirement already satisfied: markdown in /opt/anaconda3/lib/python3.9/site-packages (from panel->GeoViews) (3.3.4)\n",
      "Requirement already satisfied: tqdm>=4.48.0 in /opt/anaconda3/lib/python3.9/site-packages (from panel->GeoViews) (4.64.1)\n",
      "Requirement already satisfied: requests in /opt/anaconda3/lib/python3.9/site-packages (from panel->GeoViews) (2.28.1)\n",
      "Requirement already satisfied: MarkupSafe>=0.23 in /opt/anaconda3/lib/python3.9/site-packages (from Jinja2>=2.9->bokeh<2.5,>=2.4.0->GeoViews) (2.0.1)\n",
      "Requirement already satisfied: python-dateutil>=2.7 in /opt/anaconda3/lib/python3.9/site-packages (from matplotlib>=3.1->cartopy>=0.18.0->GeoViews) (2.8.2)\n",
      "Requirement already satisfied: kiwisolver>=1.0.1 in /opt/anaconda3/lib/python3.9/site-packages (from matplotlib>=3.1->cartopy>=0.18.0->GeoViews) (1.4.2)\n",
      "Requirement already satisfied: cycler>=0.10 in /opt/anaconda3/lib/python3.9/site-packages (from matplotlib>=3.1->cartopy>=0.18.0->GeoViews) (0.11.0)\n",
      "Requirement already satisfied: fonttools>=4.22.0 in /opt/anaconda3/lib/python3.9/site-packages (from matplotlib>=3.1->cartopy>=0.18.0->GeoViews) (4.25.0)\n",
      "Requirement already satisfied: pytz>=2020.1 in /opt/anaconda3/lib/python3.9/site-packages (from pandas>=0.20.0->holoviews>=1.14.2->GeoViews) (2022.1)\n",
      "Requirement already satisfied: certifi in /opt/anaconda3/lib/python3.9/site-packages (from pyproj>=3.0.0->cartopy>=0.18.0->GeoViews) (2022.9.24)\n",
      "Requirement already satisfied: six>=1.9.0 in /opt/anaconda3/lib/python3.9/site-packages (from bleach->panel->GeoViews) (1.16.0)\n",
      "Requirement already satisfied: webencodings in /opt/anaconda3/lib/python3.9/site-packages (from bleach->panel->GeoViews) (0.5.1)\n",
      "Requirement already satisfied: urllib3<1.27,>=1.21.1 in /opt/anaconda3/lib/python3.9/site-packages (from requests->panel->GeoViews) (1.26.11)\n",
      "Requirement already satisfied: charset-normalizer<3,>=2 in /opt/anaconda3/lib/python3.9/site-packages (from requests->panel->GeoViews) (2.0.4)\n",
      "Requirement already satisfied: idna<4,>=2.5 in /opt/anaconda3/lib/python3.9/site-packages (from requests->panel->GeoViews) (3.3)\n",
      "Installing collected packages: GeoViews\n",
      "Successfully installed GeoViews-1.9.6\n",
      "Note: you may need to restart the kernel to use updated packages.\n"
     ]
    }
   ],
   "source": [
    "pip install GeoViews"
   ]
  },
  {
   "cell_type": "code",
   "execution_count": null,
   "id": "b99f419e",
   "metadata": {},
   "outputs": [],
   "source": []
  }
 ],
 "metadata": {
  "kernelspec": {
   "display_name": "Python 3 (ipykernel)",
   "language": "python",
   "name": "python3"
  },
  "language_info": {
   "codemirror_mode": {
    "name": "ipython",
    "version": 3
   },
   "file_extension": ".py",
   "mimetype": "text/x-python",
   "name": "python",
   "nbconvert_exporter": "python",
   "pygments_lexer": "ipython3",
   "version": "3.9.13"
  }
 },
 "nbformat": 4,
 "nbformat_minor": 5
}
